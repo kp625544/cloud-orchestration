{
 "cells": [
  {
   "cell_type": "code",
   "execution_count": 1,
   "metadata": {},
   "outputs": [],
   "source": [
    "import boto3\n",
    "import pprint\n",
    "from IPython.core.display import display, HTML\n",
    "\n",
    "import email\n",
    "import smtplib\n",
    "\n",
    "import json\n",
    "from email.mime.multipart import MIMEMultipart\n",
    "from email.mime.text import MIMEText"
   ]
  },
  {
   "cell_type": "code",
   "execution_count": 2,
   "metadata": {},
   "outputs": [],
   "source": [
    "#Could Whitelist some port rules which are needed for some internal use and are a known risk\n",
    "white_list = [{'rule_name': 'jupyter-datadog', 'port': 8889}, \n",
    "              {'rule_name': 'launch-wizard-17', 'port': 25},\n",
    "              {'rule_name': 'launch-wizard-17', 'port': 465}]"
   ]
  },
  {
   "cell_type": "code",
   "execution_count": 3,
   "metadata": {},
   "outputs": [],
   "source": [
    "email_smtp = 'smtp.gmail.com'\n",
    "email_port = 587\n",
    "email_id = 'hydranoob000@gmail.com'\n",
    "email_password = 'hqkcvqarjdhmiqsq'\n",
    "regions = ['ap-south-1']"
   ]
  },
  {
   "cell_type": "code",
   "execution_count": 4,
   "metadata": {},
   "outputs": [],
   "source": [
    "def ec2_secg_check():\n",
    "    x = ''\n",
    "    for region in regions:\n",
    "        client = boto3.client('ec2', region_name=region)\n",
    "        response=client.describe_security_groups()\n",
    "        for secg in response['SecurityGroups']:\n",
    "            for ipr in secg['IpPermissions']:\n",
    "                for cidr in ipr['IpRanges']:\n",
    "                    if '0.0.0.0' in cidr['CidrIp']:\n",
    "                        whitelist_status = \"\"\n",
    "                        for i in white_list:\n",
    "                            if i['rule_name'] == secg['GroupName'] and i['port'] == ipr['FromPort']:\n",
    "                                whitelist_status = \"Whitelisted\"\n",
    "                            else:\n",
    "                                pass\n",
    "                        if whitelist_status != \"Whitelisted\":\n",
    "                            x = x + \"Found malicious rule for port: \"+str(ipr['FromPort']) + '<br>'\n",
    "                            x = x + \"Rule Name: \"+secg['GroupName'] + \"<br>\"\n",
    "                            x = x + \"Link to rule: \"+ \"https://\"+region+\".console.aws.amazon.com/ec2/home?region=\"+region+\"#SecurityGroups:search=\"+secg['GroupName']\n",
    "    return x\n"
   ]
  },
  {
   "cell_type": "code",
   "execution_count": 5,
   "metadata": {},
   "outputs": [],
   "source": [
    "msg = ec2_secg_check()"
   ]
  },
  {
   "cell_type": "code",
   "execution_count": 6,
   "metadata": {},
   "outputs": [],
   "source": [
    "def send_email(sender_email, sender_name, email_subject, email_message,\n",
    "                        recipient_list, cc_list=None, **kwargs):\n",
    "    try:\n",
    "        if cc_list is None:\n",
    "            cc_list = ''\n",
    "\n",
    "        cc_list = cc_list.split(',')\n",
    "        recipient_list = recipient_list.split(',')\n",
    "\n",
    "        msg = MIMEMultipart('alternative')\n",
    "        msg['Subject'] = email_subject\n",
    "        msg['From'] = email.utils.formataddr((sender_name, sender_email))\n",
    "        msg['To'] = ','.join(recipient_list)\n",
    "\n",
    "        if cc_list:\n",
    "            msg['CC'] = ','.join(cc_list)\n",
    "            recipient_list.extend(cc_list)\n",
    "\n",
    "\n",
    "        part1 = MIMEText(email_message, 'plain')\n",
    "        part2 = MIMEText(email_message, 'html')\n",
    "\n",
    "        msg.attach(part1)\n",
    "        msg.attach(part2)\n",
    "\n",
    "        try:\n",
    "            server = smtplib.SMTP(email_smtp, email_port)\n",
    "            server.ehlo()\n",
    "            server.starttls()\n",
    "            server.ehlo()\n",
    "            server.login(email_id, email_password)\n",
    "            server.sendmail(sender_email, recipient_list, msg.as_string())\n",
    "            return {'result': \"OK!, Email has been sent to user successfully\", 'execution_status': 'SUCCESS'}\n",
    "        except Exception as e:\n",
    "            return {'result': str(e), 'execution_status': 'ERROR'}\n",
    "    except Exception as f:\n",
    "        return {'result': str(f), 'execution_status': 'ERROR'}"
   ]
  },
  {
   "cell_type": "code",
   "execution_count": 7,
   "metadata": {},
   "outputs": [
    {
     "data": {
      "text/plain": [
       "'Found malicious rule for port: 3389<br>Rule Name: hydra<br>Link to rule: https://ap-south-1.console.aws.amazon.com/ec2/home?region=ap-south-1#SecurityGroups:search=hydra'"
      ]
     },
     "execution_count": 7,
     "metadata": {},
     "output_type": "execute_result"
    }
   ],
   "source": [
    "msg"
   ]
  },
  {
   "cell_type": "code",
   "execution_count": 8,
   "metadata": {},
   "outputs": [
    {
     "name": "stdout",
     "output_type": "stream",
     "text": [
      "{'result': 'OK!, Email has been sent to user successfully', 'execution_status': 'SUCCESS'}\n"
     ]
    },
    {
     "data": {
      "text/plain": [
       "'Found malicious rule for port: 3389<br>Rule Name: hydra<br>Link to rule: https://ap-south-1.console.aws.amazon.com/ec2/home?region=ap-south-1#SecurityGroups:search=hydra'"
      ]
     },
     "execution_count": 8,
     "metadata": {},
     "output_type": "execute_result"
    }
   ],
   "source": [
    "# GET /ec2-sec-group\n",
    "# req = json.loads(REQUEST)\n",
    "msg = ec2_secg_check()\n",
    "resp = send_email('hydranoob000@gmail.com', 'Hydra', 'Vulnerability Manager: Critical SG Rule found', msg, 'hydranoob001@gmail.com')\n",
    "print(resp)\n",
    "msg"
   ]
  },
  {
   "cell_type": "code",
   "execution_count": null,
   "metadata": {},
   "outputs": [],
   "source": []
  }
 ],
 "metadata": {
  "kernelspec": {
   "display_name": "Python 3",
   "language": "python",
   "name": "python3"
  },
  "language_info": {
   "codemirror_mode": {
    "name": "ipython",
    "version": 3
   },
   "file_extension": ".py",
   "mimetype": "text/x-python",
   "name": "python",
   "nbconvert_exporter": "python",
   "pygments_lexer": "ipython3",
   "version": "3.7.4"
  }
 },
 "nbformat": 4,
 "nbformat_minor": 2
}
